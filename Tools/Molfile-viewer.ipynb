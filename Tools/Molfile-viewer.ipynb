{
 "cells": [
  {
   "cell_type": "code",
   "execution_count": 85,
   "id": "d34c5053-54e9-48f9-88d8-8c55f046eb4e",
   "metadata": {},
   "outputs": [],
   "source": [
    "### a simple molfile Viewer\n",
    "\n",
    "from rdkit import Chem\n",
    "from rdkit.Chem import AllChem, Draw\n",
    "from rdkit.Chem.Draw import IPythonConsole\n",
    "from IPython.display import display, Image\n",
    "import tempfile   ## handling of temporary files\n",
    "import os\n",
    "\n",
    "\n",
    "### defing some parameters\n",
    "\n",
    "## file to view\n",
    "\n",
    "molfile=\"examples/l-alanine.mol\"\n",
    "\n",
    "## image size\n",
    "groesse=(600,400)  \n",
    "\n",
    "## 3D to 2D structure?\n",
    "twoDtrue=False\n"
   ]
  },
  {
   "cell_type": "code",
   "execution_count": 87,
   "id": "d4119d6d-d565-4395-b472-6e904a0de5b7",
   "metadata": {},
   "outputs": [
    {
     "data": {
      "image/png": "[encoded data removed]",
      "text/plain": [
       "<IPython.core.display.Image object>"
      ]
     },
     "metadata": {},
     "output_type": "display_data"
    },
    {
     "name": "stdout",
     "output_type": "stream",
     "text": [
      "done\n"
     ]
    }
   ],
   "source": [
    "## define function to add numbers\n",
    "\n",
    "#Generate Atom numbers\n",
    "def show_atom_number(mol, label):\n",
    "    for atom in mol.GetAtoms():\n",
    "        atom.SetProp(label, str(atom.GetIdx()+1))\n",
    "    return mol\n",
    "\n",
    "## read mol file with hydrogens\n",
    "## for a consistent numbering Hydrogens will read in, when included\n",
    "\n",
    "mol1=Chem.MolFromMolFile(molfile,removeHs=False)\n",
    "\n",
    "## create numbering\n",
    "\n",
    "show_atom_number(mol1, 'atomNote')\n",
    "\n",
    "## remove H's for a better view\n",
    "\n",
    "mol_ohne_H=Chem.RemoveHs(mol1)  \n",
    "\n",
    "\n",
    "## generate 2D Coordinates (optional)\n",
    "\n",
    "if twoDtrue:\n",
    "    AllChem.Compute2DCoords(mol_ohne_H)\n",
    "\n",
    "\n",
    "## draw image in a image object\n",
    "\n",
    "img = Draw.MolToImage(mol_ohne_H, size=groesse)\n",
    "\n",
    "with tempfile.NamedTemporaryFile(suffix='.png', delete=False) as temp_file:\n",
    "   temp_file_name=temp_file.name\n",
    "   img.save(temp_file_name)  # save image\n",
    "   display(Image(filename=temp_file_name)) #show image\n",
    "\n",
    "print('done')"
   ]
  },
  {
   "cell_type": "code",
   "execution_count": 83,
   "id": "a46df2cc-e417-4ed4-9579-1cfb4a446ce1",
   "metadata": {},
   "outputs": [
    {
     "name": "stdout",
     "output_type": "stream",
     "text": [
      "L- Alanine\n",
      "     RDKit          3D\n",
      "\n",
      "  6  5  0  0  0  0  0  0  0  0999 V2000\n",
      "   -0.0355   -0.7586    1.0592 C   0  0  0  0  0  0  0  0  0  0  0  0\n",
      "   -1.0170   -0.9520    1.7397 O   0  0  0  0  0  0  0  0  0  0  0  0\n",
      "   -0.0140    0.3842    0.0744 C   0  0  1  0  0  0  0  0  0  0  0  0\n",
      "    0.4014   -0.1082   -1.2463 N   0  0  0  0  0  0  0  0  0  0  0  0\n",
      "   -1.4120    0.9918   -0.0273 C   0  0  0  0  0  0  0  0  0  0  0  0\n",
      "    1.0415   -1.5818    1.1691 O   0  0  0  0  0  0  0  0  0  0  0  0\n",
      "  1  2  2  0\n",
      "  1  3  1  0\n",
      "  1  6  1  0\n",
      "  3  4  1  0\n",
      "  3  5  1  6\n",
      "M  END\n",
      "\n"
     ]
    }
   ],
   "source": [
    "### show the Mol Block\n",
    "\n",
    "molblock=Chem.MolToMolBlock(mol_ohne_H)\n",
    "print(molblock)"
   ]
  },
  {
   "cell_type": "code",
   "execution_count": null,
   "id": "c7ed9a71-e90f-453f-a9b0-abd0d6a70848",
   "metadata": {},
   "outputs": [],
   "source": []
  }
 ],
 "metadata": {
  "kernelspec": {
   "display_name": "Python [conda env:base] *",
   "language": "python",
   "name": "conda-base-py"
  },
  "language_info": {
   "codemirror_mode": {
    "name": "ipython",
    "version": 3
   },
   "file_extension": ".py",
   "mimetype": "text/x-python",
   "name": "python",
   "nbconvert_exporter": "python",
   "pygments_lexer": "ipython3",
   "version": "3.12.7"
  }
 },
 "nbformat": 4,
 "nbformat_minor": 5
}
