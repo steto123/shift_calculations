{
 "cells": [
  {
   "cell_type": "code",
   "execution_count": 1,
   "id": "b10f1fd5",
   "metadata": {},
   "outputs": [],
   "source": [
    "####################################################################\n",
    "#                                                                  #\n",
    "#      Force Field Optiomization of all molecules                  #\n",
    "#      in an sdf file and creating a updated sdf file              #\n",
    "#                                                                  # \n",
    "####################################################################\n",
    "\n",
    "from rdkit import Chem\n",
    "from rdkit.Chem import AllChem\n",
    "\n",
    "# 1. enter sdf file name here\n",
    "input_sdf = 'input-test.sdf'  # path to input data\n",
    "output_sdf = 'output-test.sdf'  # path to aoutput data\n",
    "\n",
    "\n",
    "## do not edit anything\n",
    "## or you know what you do\n",
    "\n",
    "\n",
    "# read molecules from input sdf\n",
    "supplier = Chem.SDMolSupplier(input_sdf)\n",
    "writer = Chem.SDWriter(output_sdf)\n",
    "\n",
    "# 2. for each molecule\n",
    "for mol in supplier:\n",
    "    if mol is None:  # look for a allowed molecule\n",
    "        continue\n",
    "    \n",
    "    # check molecule structure\n",
    "    try:\n",
    "        Chem.SanitizeMol(mol)\n",
    "    except ValueError:\n",
    "        continue  # non allowed molecules are not used\n",
    "    \n",
    "    # 3. force field optimisation\n",
    "    mol = Chem.AddHs(mol)\n",
    "    confs = AllChem.EmbedMultipleConfs(mol, numConfs=10)\n",
    "    if confs:\n",
    "        ergebniss = AllChem.UFFOptimizeMolecule(mol)  # UFF-force field\n",
    "        if ergebniss == 0:\n",
    "            # 4. save optimized molecule\n",
    "            writer.write(mol)\n",
    "\n",
    "# 5.close writer\n",
    "writer.close()\n"
   ]
  },
  {
   "cell_type": "code",
   "execution_count": null,
   "id": "e853076b",
   "metadata": {},
   "outputs": [],
   "source": []
  }
 ],
 "metadata": {
  "kernelspec": {
   "display_name": "Python 3 (ipykernel)",
   "language": "python",
   "name": "python3"
  },
  "language_info": {
   "codemirror_mode": {
    "name": "ipython",
    "version": 3
   },
   "file_extension": ".py",
   "mimetype": "text/x-python",
   "name": "python",
   "nbconvert_exporter": "python",
   "pygments_lexer": "ipython3",
   "version": "3.11.9"
  }
 },
 "nbformat": 4,
 "nbformat_minor": 5
}
