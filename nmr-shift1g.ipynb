{
 "cells": [
  {
   "cell_type": "markdown",
   "id": "9763d343-6920-440e-b709-aefc3b94d8ec",
   "metadata": {},
   "source": [
    "### NMR shieldings\n",
    "* Moleküleingabe vom xyz- file, idealerweise aus DFT Optimierung\n",
    "* Berechnung anisotroper Verschiebung\n",
    "* Ergebnisse weichen deutlich vom Abaluf ohne GPU Unterstützung ab\n",
    "* einiges ist im GPU Modul noch experimentell, daher nicht weiter verwenden bevor intensiv getestet"
   ]
  },
  {
   "cell_type": "code",
   "execution_count": 8,
   "id": "b4761b11-d351-4c75-9c83-79c9fe081a58",
   "metadata": {},
   "outputs": [
    {
     "name": "stdout",
     "output_type": "stream",
     "text": [
      "overwrite output file: test_g.log\n"
     ]
    }
   ],
   "source": [
    "#####################################\n",
    "#\n",
    "# Computing NMR shielding constants\n",
    "#\n",
    "######################################\n",
    "\n",
    "\n",
    "xyzin=\"xyz/nitromethan.xyz\"   # funktioniert\n",
    "logfile=\"test_g.log\"\n",
    "\n",
    "import pyscf\n",
    "import gpu4pyscf\n",
    "from gpu4pyscf import dft\n",
    "from gpu4pyscf.properties.shielding import eval_shielding\n",
    "mol = pyscf.M(atom=xyzin, basis='6-31g*', output=logfile)\n",
    "\n",
    "mf = dft.RKS(mol)\n",
    "mf.xc = 'b3lyp'\n",
    "\n",
    "mf = mol.RKS().to_gpu().run()\n",
    "tensor = eval_shielding(mf)\n"
   ]
  },
  {
   "cell_type": "code",
   "execution_count": 9,
   "id": "4a36296c-b944-497d-a8f2-39e5d1b8f838",
   "metadata": {},
   "outputs": [],
   "source": [
    "abschirmung = tensor[0].get()+tensor[1].get()\n",
    "#abschirmung"
   ]
  },
  {
   "cell_type": "code",
   "execution_count": 10,
   "id": "fd5b9ec5-f3c6-453c-ba60-6ccdab6673e6",
   "metadata": {},
   "outputs": [],
   "source": [
    "#################################################################################################\n",
    "#\n",
    "# Constanten für Verschiebungsberchnung\n",
    "#\n",
    "# CSHESHIRE Repository (Tantillo)\n",
    "#\n",
    "# Table 1a and 1b\n",
    "#\n",
    "# delta = (intercept -sigma)/ - slope\n",
    "#\n",
    "# Das Vorzeichen von slope wird gleich in die Definition der Konstanten eingepflegt\n",
    "#\n",
    "# TMS shielding aus eigener Berechnung delta = sigma - TMS\n",
    "#\n",
    "##################################################################################################\n",
    "\n",
    "intercept1a = 187.4743\n",
    "slope1a = 0.9269\n",
    "intercept1b = 188.4418\n",
    "slope1b = 0.9449\n",
    "intercept1c = 188.01\n",
    "slope1c = 0.9378\n",
    "tmsshield = 190.2218\n",
    "\n",
    "h_intercept1a = 32.2884\n",
    "h_slope1a = 0.9957\n",
    "h_intercept1b = 32.2109\n",
    "h_slope1b = 1.0157\n",
    "h_intercept1c = 32.2448\n",
    "h_slope1c = 1.004\n",
    "h_tmsshield = 32.1893\n",
    "\n",
    "shift = [0] *mol.natm\n",
    "shift1a = [0] *mol.natm\n",
    "shift1b= [0] *mol.natm\n",
    "shift1c= [0] *mol.natm\n",
    "shifttms= [0] *mol.natm\n",
    "\n",
    "\n",
    "data = []\n",
    "for i in range(mol.natm):\n",
    "    shift[i]= (abschirmung[i,0,0] + abschirmung[i,1,1] + abschirmung[i,2,2])/3\n",
    "    #print(f\"Atom {mol._atom[i][0]} {i} hat eine totale Abschirmung von {shift[i]} .\")\n",
    "\n",
    "    if  mol._atom[i][0] =='C':\n",
    "        shift1a[i] = (intercept1a-shift[i])/slope1a\n",
    "        shift1b[i] = (intercept1b-shift[i])/slope1b\n",
    "        shift1c[i] = (intercept1c-shift[i])/slope1c\n",
    "        shifttms[i] = tmsshield - shift[i]\n",
    "        data.append({'Atom': mol._atom[i][0], 'Index': i+1, 'Totale Abschirmung': shift[i], 'table1a': shift1a[i], 'table1b' : shift1b[i], 'table1c' : shift1c[i], 'TMS' : shifttms[i]})\n",
    "\n",
    "    if  mol._atom[i][0] =='H':\n",
    "        shift1a[i] = (h_intercept1a-shift[i])/h_slope1a\n",
    "        shift1b[i] = (h_intercept1b-shift[i])/h_slope1b\n",
    "        shift1c[i] = (h_intercept1c-shift[i])/h_slope1c\n",
    "        shifttms[i] = h_tmsshield - shift[i]\n",
    "        data.append({'Atom': mol._atom[i][0], 'Index': i+1, 'Totale Abschirmung': shift[i], 'table1a': shift1a[i], 'table1b' : shift1b[i], 'table1c' : shift1c[i], 'TMS' : shifttms[i]})\n",
    " "
   ]
  },
  {
   "cell_type": "code",
   "execution_count": 11,
   "id": "8604a790-4bf9-4c9d-a893-2832fa032f9e",
   "metadata": {},
   "outputs": [
    {
     "data": {
      "text/html": [
       "<table border=\"1\" class=\"dataframe\">\n",
       "  <thead>\n",
       "    <tr style=\"text-align: right;\">\n",
       "      <th>Atom</th>\n",
       "      <th>Index</th>\n",
       "      <th>Totale Abschirmung</th>\n",
       "      <th>table1a</th>\n",
       "      <th>table1b</th>\n",
       "      <th>table1c</th>\n",
       "      <th>TMS</th>\n",
       "    </tr>\n",
       "  </thead>\n",
       "  <tbody>\n",
       "    <tr>\n",
       "      <td>H</td>\n",
       "      <td>1</td>\n",
       "      <td>27.293154</td>\n",
       "      <td>5.016818</td>\n",
       "      <td>4.841731</td>\n",
       "      <td>4.931918</td>\n",
       "      <td>4.896146</td>\n",
       "    </tr>\n",
       "    <tr>\n",
       "      <td>C</td>\n",
       "      <td>2</td>\n",
       "      <td>131.118339</td>\n",
       "      <td>60.800476</td>\n",
       "      <td>60.666167</td>\n",
       "      <td>60.665026</td>\n",
       "      <td>59.103461</td>\n",
       "    </tr>\n",
       "    <tr>\n",
       "      <td>H</td>\n",
       "      <td>6</td>\n",
       "      <td>27.795236</td>\n",
       "      <td>4.512568</td>\n",
       "      <td>4.347410</td>\n",
       "      <td>4.431837</td>\n",
       "      <td>4.394064</td>\n",
       "    </tr>\n",
       "    <tr>\n",
       "      <td>H</td>\n",
       "      <td>7</td>\n",
       "      <td>27.795236</td>\n",
       "      <td>4.512568</td>\n",
       "      <td>4.347410</td>\n",
       "      <td>4.431837</td>\n",
       "      <td>4.394064</td>\n",
       "    </tr>\n",
       "  </tbody>\n",
       "</table>"
      ],
      "text/plain": [
       "<IPython.core.display.HTML object>"
      ]
     },
     "metadata": {},
     "output_type": "display_data"
    }
   ],
   "source": [
    "import pandas as pd\n",
    "from IPython.display import display, HTML\n",
    "# Erstelle ein DataFrame\n",
    "df = pd.DataFrame(data)\n",
    "\n",
    "# Setze die Spaltenüberschriften\n",
    "df.columns = ['Atom', 'Index', 'Totale Abschirmung', 'table1a', 'table1b', 'table1c', 'TMS']\n",
    "\n",
    "# Zeige die Tabelle an\n",
    "display(HTML(df.to_html(index=False)))"
   ]
  },
  {
   "cell_type": "code",
   "execution_count": 12,
   "id": "70a1115b-206b-4284-9b8e-4914dbbaafa0",
   "metadata": {
    "jupyter": {
     "source_hidden": true
    }
   },
   "outputs": [
    {
     "data": {
      "image/png": "[encoded data removed]",
      "text/plain": [
       "<rdkit.Chem.rdchem.Mol at 0x14d3935eda80>"
      ]
     },
     "execution_count": 12,
     "metadata": {},
     "output_type": "execute_result"
    }
   ],
   "source": [
    "from rdkit import Chem\n",
    "from rdkit.Chem import AllChem\n",
    "from rdkit.Chem import rdDetermineBonds\n",
    "from rdkit.Chem.Draw import IPythonConsole\n",
    "\n",
    "\n",
    "def show_atom_number(mol, label):\n",
    "    for atom in mol.GetAtoms():\n",
    "        atom.SetProp(label, str(atom.GetIdx()+1))\n",
    "    return mol\n",
    "\n",
    "raw_mol = Chem.MolFromXYZFile(xyzin)\n",
    "mol2 = Chem.Mol(raw_mol)\n",
    "Chem.rdDetermineBonds.DetermineBonds(mol2)\n",
    "# mol2\n",
    "AllChem.Compute2DCoords(mol2)\n",
    "show_atom_number(mol2, 'atomNote')"
   ]
  },
  {
   "cell_type": "code",
   "execution_count": null,
   "id": "574de69c-9c00-44ee-ab33-31c53ed0892d",
   "metadata": {},
   "outputs": [],
   "source": []
  }
 ],
 "metadata": {
  "kernelspec": {
   "display_name": "Python 3 (ipykernel)",
   "language": "python",
   "name": "python3"
  },
  "language_info": {
   "codemirror_mode": {
    "name": "ipython",
    "version": 3
   },
   "file_extension": ".py",
   "mimetype": "text/x-python",
   "name": "python",
   "nbconvert_exporter": "python",
   "pygments_lexer": "ipython3",
   "version": "3.12.4"
  }
 },
 "nbformat": 4,
 "nbformat_minor": 5
}
