{
 "cells": [
  {
   "cell_type": "markdown",
   "id": "9763d343-6920-440e-b709-aefc3b94d8ec",
   "metadata": {},
   "source": [
    "### NMR shieldings\n",
    "* Moleküleingabe vom xyz- file, idealerweise aus DFT Optimierung\n",
    "* Berechnung anisotroper Verschiebung\n",
    "* Table1a CHESHIRE Kalibrierung Gasphase\n",
    "* Table1b CHESHIRE Kalibrierung SMD Solvent Modell CDCl3\n",
    "* Table1c CHESHIRE Kalibrierung CPCM/UAKS Chloroform Model\n",
    "* TMS Kalibrierung gegen TMS in der Gasphase"
   ]
  },
  {
   "cell_type": "code",
   "execution_count": 9,
   "id": "b4761b11-d351-4c75-9c83-79c9fe081a58",
   "metadata": {},
   "outputs": [
    {
     "name": "stdout",
     "output_type": "stream",
     "text": [
      "output file: logs/Oxetane.log\n"
     ]
    }
   ],
   "source": [
    "#####################################\n",
    "#\n",
    "# Computing NMR shielding constants\n",
    "# non gpu variante\n",
    "#\n",
    "######################################\n",
    "\n",
    "jobname = \"Oxetane\"\n",
    "\n",
    "# Filename vom Jobnamen bilden\n",
    "xyzin =f\"xyz/{jobname}.xyz\"\n",
    "logfile=f\"logs/{jobname}.log\"\n",
    "\n",
    "\n",
    "import pyscf\n",
    "from pyscf import gto, dft\n",
    "from pyscf.prop import nmr\n",
    "\n",
    "mol = pyscf.M(atom=xyzin, basis='6-31g*', output=logfile)\n",
    "\n",
    "\n",
    "mf = dft.RKS(mol)\n",
    "mf.xc = 'b3lyp'\n",
    "mf.run()\n",
    "\n",
    "#nmr.RKS(mf).kernel()\n",
    "\n",
    "abschirmung = nmr.RKS(mf).kernel()\n"
   ]
  },
  {
   "cell_type": "code",
   "execution_count": 10,
   "id": "e1cf8277-a24a-48c3-bdf5-001ab181c9b1",
   "metadata": {
    "jupyter": {
     "source_hidden": true
    }
   },
   "outputs": [],
   "source": [
    "#################################################################################################\n",
    "#\n",
    "# Constanten für Verschiebungsberchnung\n",
    "#\n",
    "# CSHESHIRE Repository (Tantillo)\n",
    "#\n",
    "# Table 1a and 1b\n",
    "#\n",
    "# delta = (intercept -sigma)/ - slope\n",
    "#\n",
    "# Das Vorzeichen von slope wird gleich in die Definition der Konstanten eingepflegt\n",
    "#\n",
    "# TMS shielding aus eigener Berechnung delta = sigma - TMS\n",
    "#\n",
    "##################################################################################################\n",
    "\n",
    "intercept1a = 187.4743\n",
    "slope1a = 0.9269\n",
    "intercept1b = 188.4418\n",
    "slope1b = 0.9449\n",
    "intercept1c = 188.01\n",
    "slope1c = 0.9378\n",
    "tmsshield = 190.2218\n",
    "\n",
    "h_intercept1a = 32.2884\n",
    "h_slope1a = 0.9957\n",
    "h_intercept1b = 32.2109\n",
    "h_slope1b = 1.0157\n",
    "h_intercept1c = 32.2448\n",
    "h_slope1c = 1.004\n",
    "h_tmsshield = 32.1893\n",
    "\n",
    "shift = [0] *mol.natm\n",
    "shift1a = [0] *mol.natm\n",
    "shift1b= [0] *mol.natm\n",
    "shift1c= [0] *mol.natm\n",
    "shifttms= [0] *mol.natm\n",
    "\n",
    "\n",
    "data = []\n",
    "for i in range(mol.natm):\n",
    "    shift[i]= (abschirmung[i,0,0] + abschirmung[i,1,1] + abschirmung[i,2,2])/3\n",
    "    #print(f\"Atom {mol._atom[i][0]} {i} hat eine totale Abschirmung von {shift[i]} .\")\n",
    "\n",
    "    if  mol._atom[i][0] =='C':\n",
    "        shift1a[i] = round(((intercept1a-shift[i])/slope1a),2)\n",
    "        shift1b[i] = round(((intercept1b-shift[i])/slope1b),2)\n",
    "        shift1c[i] = round(((intercept1c-shift[i])/slope1c),2)\n",
    "        shifttms[i] = round((tmsshield - shift[i]),2)\n",
    "        data.append({'Atom': mol._atom[i][0], 'Index': i+1, 'Totale Abschirmung': shift[i], 'table1a': shift1a[i], 'table1b' : shift1b[i], 'table1c' : shift1c[i], 'TMS' : shifttms[i]})\n",
    "\n",
    "    if  mol._atom[i][0] =='H':\n",
    "        shift1a[i] = round(((h_intercept1a-shift[i])/h_slope1a),2)\n",
    "        shift1b[i] = round(((h_intercept1b-shift[i])/h_slope1b),2)\n",
    "        shift1c[i] = round(((h_intercept1c-shift[i])/h_slope1c),2)\n",
    "        shifttms[i] = round((h_tmsshield - shift[i]),2)\n",
    "        data.append({'Atom': mol._atom[i][0], 'Index': i+1, 'Totale Abschirmung': shift[i], 'table1a': shift1a[i], 'table1b' : shift1b[i], 'table1c' : shift1c[i], 'TMS' : shifttms[i]})\n",
    " "
   ]
  },
  {
   "cell_type": "code",
   "execution_count": 11,
   "id": "7ac45b8d-87d8-4a22-8a7f-2f48ef1b3c60",
   "metadata": {},
   "outputs": [
    {
     "data": {
      "text/html": [
       "<table border=\"1\" class=\"dataframe\">\n",
       "  <thead>\n",
       "    <tr style=\"text-align: right;\">\n",
       "      <th>Atom</th>\n",
       "      <th>Index</th>\n",
       "      <th>Totale Abschirmung</th>\n",
       "      <th>table1a</th>\n",
       "      <th>table1b</th>\n",
       "      <th>table1c</th>\n",
       "      <th>TMS</th>\n",
       "    </tr>\n",
       "  </thead>\n",
       "  <tbody>\n",
       "    <tr>\n",
       "      <td>C</td>\n",
       "      <td>2</td>\n",
       "      <td>167.700123</td>\n",
       "      <td>21.33</td>\n",
       "      <td>21.95</td>\n",
       "      <td>21.66</td>\n",
       "      <td>22.52</td>\n",
       "    </tr>\n",
       "    <tr>\n",
       "      <td>C</td>\n",
       "      <td>3</td>\n",
       "      <td>120.956782</td>\n",
       "      <td>71.76</td>\n",
       "      <td>71.42</td>\n",
       "      <td>71.50</td>\n",
       "      <td>69.27</td>\n",
       "    </tr>\n",
       "    <tr>\n",
       "      <td>C</td>\n",
       "      <td>4</td>\n",
       "      <td>120.956782</td>\n",
       "      <td>71.76</td>\n",
       "      <td>71.42</td>\n",
       "      <td>71.50</td>\n",
       "      <td>69.27</td>\n",
       "    </tr>\n",
       "    <tr>\n",
       "      <td>H</td>\n",
       "      <td>5</td>\n",
       "      <td>29.789469</td>\n",
       "      <td>2.51</td>\n",
       "      <td>2.38</td>\n",
       "      <td>2.45</td>\n",
       "      <td>2.40</td>\n",
       "    </tr>\n",
       "    <tr>\n",
       "      <td>H</td>\n",
       "      <td>6</td>\n",
       "      <td>29.789469</td>\n",
       "      <td>2.51</td>\n",
       "      <td>2.38</td>\n",
       "      <td>2.45</td>\n",
       "      <td>2.40</td>\n",
       "    </tr>\n",
       "    <tr>\n",
       "      <td>H</td>\n",
       "      <td>7</td>\n",
       "      <td>27.570852</td>\n",
       "      <td>4.74</td>\n",
       "      <td>4.57</td>\n",
       "      <td>4.66</td>\n",
       "      <td>4.62</td>\n",
       "    </tr>\n",
       "    <tr>\n",
       "      <td>H</td>\n",
       "      <td>8</td>\n",
       "      <td>27.570852</td>\n",
       "      <td>4.74</td>\n",
       "      <td>4.57</td>\n",
       "      <td>4.66</td>\n",
       "      <td>4.62</td>\n",
       "    </tr>\n",
       "    <tr>\n",
       "      <td>H</td>\n",
       "      <td>9</td>\n",
       "      <td>27.570852</td>\n",
       "      <td>4.74</td>\n",
       "      <td>4.57</td>\n",
       "      <td>4.66</td>\n",
       "      <td>4.62</td>\n",
       "    </tr>\n",
       "    <tr>\n",
       "      <td>H</td>\n",
       "      <td>10</td>\n",
       "      <td>27.570852</td>\n",
       "      <td>4.74</td>\n",
       "      <td>4.57</td>\n",
       "      <td>4.66</td>\n",
       "      <td>4.62</td>\n",
       "    </tr>\n",
       "  </tbody>\n",
       "</table>"
      ],
      "text/plain": [
       "<IPython.core.display.HTML object>"
      ]
     },
     "metadata": {},
     "output_type": "display_data"
    }
   ],
   "source": [
    "import pandas as pd\n",
    "from IPython.display import display, HTML\n",
    "# Erstelle ein DataFrame\n",
    "df = pd.DataFrame(data)\n",
    "\n",
    "# Setze die Spaltenüberschriften\n",
    "df.columns = ['Atom', 'Index', 'Totale Abschirmung', 'table1a', 'table1b', 'table1c', 'TMS']\n",
    "\n",
    "# Zeige die Tabelle an\n",
    "display(HTML(df.to_html(index=False)))"
   ]
  },
  {
   "cell_type": "code",
   "execution_count": 12,
   "id": "3202ec2c-aba9-4bc3-a54f-637bae5e1c25",
   "metadata": {
    "jupyter": {
     "source_hidden": true
    }
   },
   "outputs": [
    {
     "data": {
      "image/png": "[encoded data removed]",
      "text/plain": [
       "<rdkit.Chem.rdchem.Mol at 0x14b3a0fd2340>"
      ]
     },
     "execution_count": 12,
     "metadata": {},
     "output_type": "execute_result"
    }
   ],
   "source": [
    "from rdkit import Chem\n",
    "from rdkit.Chem import AllChem\n",
    "from rdkit.Chem import rdDetermineBonds\n",
    "from rdkit.Chem.Draw import IPythonConsole\n",
    "\n",
    "\n",
    "def show_atom_number(mol, label):\n",
    "    for atom in mol.GetAtoms():\n",
    "        atom.SetProp(label, str(atom.GetIdx()+1))\n",
    "    return mol\n",
    "\n",
    "raw_mol = Chem.MolFromXYZFile(xyzin)\n",
    "mol2 = Chem.Mol(raw_mol)\n",
    "Chem.rdDetermineBonds.DetermineBonds(mol2)\n",
    "# mol2\n",
    "AllChem.Compute2DCoords(mol2)\n",
    "show_atom_number(mol2, 'atomNote')"
   ]
  },
  {
   "cell_type": "code",
   "execution_count": null,
   "id": "88f349b5-a35a-423b-929a-d5b699ab3209",
   "metadata": {},
   "outputs": [],
   "source": []
  }
 ],
 "metadata": {
  "kernelspec": {
   "display_name": "Python 3 (ipykernel)",
   "language": "python",
   "name": "python3"
  },
  "language_info": {
   "codemirror_mode": {
    "name": "ipython",
    "version": 3
   },
   "file_extension": ".py",
   "mimetype": "text/x-python",
   "name": "python",
   "nbconvert_exporter": "python",
   "pygments_lexer": "ipython3",
   "version": "3.12.4"
  }
 },
 "nbformat": 4,
 "nbformat_minor": 5
}
