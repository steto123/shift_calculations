{
 "cells": [
  {
   "cell_type": "markdown",
   "id": "9763d343-6920-440e-b709-aefc3b94d8ec",
   "metadata": {},
   "source": [
    "### NMR shieldings\n",
    "* Moleküleingabe vom xyz- file, idealerweise aus DFT Optimierung\n",
    "* Berechnung anisotroper Verschiebung\n"
   ]
  },
  {
   "cell_type": "code",
   "execution_count": 1,
   "id": "b4761b11-d351-4c75-9c83-79c9fe081a58",
   "metadata": {},
   "outputs": [
    {
     "name": "stderr",
     "output_type": "stream",
     "text": [
      "/home/steffen/miniconda3/lib/python3.12/site-packages/pyscf/prop/efg/rhf.py:45: UserWarning: Module EFG is under testing\n",
      "  warnings.warn('Module EFG is under testing')\n",
      "/home/steffen/miniconda3/lib/python3.12/site-packages/pyscf/prop/efg/dhf.py:30: UserWarning: Module EFG is under testing\n",
      "  warnings.warn('Module EFG is under testing')\n",
      "/home/steffen/miniconda3/lib/python3.12/site-packages/pyscf/prop/zfs/uhf.py:40: UserWarning: Module ZFS is under testing\n",
      "  warnings.warn('Module ZFS is under testing')\n",
      "/home/steffen/miniconda3/lib/python3.12/site-packages/pyscf/prop/gtensor/uhf.py:43: UserWarning: Module g-tensor is under testing\n",
      "  warnings.warn('Module g-tensor is under testing')\n",
      "/home/steffen/miniconda3/lib/python3.12/site-packages/pyscf/prop/gtensor/uks.py:41: UserWarning: Module g-tensor is under testing\n",
      "  warnings.warn('Module g-tensor is under testing')\n",
      "/home/steffen/miniconda3/lib/python3.12/site-packages/pyscf/prop/hfc/uks.py:35: UserWarning: Module HFC is under testing\n",
      "  warnings.warn('Module HFC is under testing')\n",
      "/home/steffen/miniconda3/lib/python3.12/site-packages/pyscf/prop/magnetizability/rhf.py:39: UserWarning: Module magnetizability is under testing\n",
      "  warnings.warn('Module magnetizability is under testing')\n",
      "/home/steffen/miniconda3/lib/python3.12/site-packages/pyscf/prop/magnetizability/uhf.py:37: UserWarning: Module magnetizability is under testing\n",
      "  warnings.warn('Module magnetizability is under testing')\n",
      "/home/steffen/miniconda3/lib/python3.12/site-packages/pyscf/prop/magnetizability/rks.py:37: UserWarning: Module magnetizability is under testing\n",
      "  warnings.warn('Module magnetizability is under testing')\n",
      "/home/steffen/miniconda3/lib/python3.12/site-packages/pyscf/prop/magnetizability/uks.py:39: UserWarning: Module magnetizability is under testing\n",
      "  warnings.warn('Module magnetizability is under testing')\n",
      "/home/steffen/miniconda3/lib/python3.12/site-packages/pyscf/prop/polarizability/uhf.py:34: UserWarning: Module polarizability is under testing\n",
      "  warnings.warn('Module polarizability is under testing')\n",
      "/home/steffen/miniconda3/lib/python3.12/site-packages/pyscf/prop/polarizability/rks.py:29: UserWarning: Module polarizability is under testing\n",
      "  warnings.warn('Module polarizability is under testing')\n",
      "/home/steffen/miniconda3/lib/python3.12/site-packages/pyscf/prop/polarizability/uks.py:29: UserWarning: Module polarizability is under testing\n",
      "  warnings.warn('Module polarizability is under testing')\n",
      "/home/steffen/miniconda3/lib/python3.12/site-packages/pyscf/prop/infrared/__init__.py:9: UserWarning: Module infrared is not fully tested\n",
      "  warnings.warn('Module infrared is not fully tested')\n",
      "/home/steffen/miniconda3/lib/python3.12/site-packages/pyscf/dft/libxc.py:507: UserWarning: Since PySCF-2.3, B3LYP (and B3P86) are changed to the VWN-RPA variant, corresponding to the original definition by Stephens et al. (issue 1480) and the same as the B3LYP functional in Gaussian. To restore the VWN5 definition, you can put the setting \"B3LYP_WITH_VWN5 = True\" in pyscf_conf.py\n",
      "  warnings.warn('Since PySCF-2.3, B3LYP (and B3P86) are changed to the VWN-RPA variant, '\n"
     ]
    },
    {
     "name": "stdout",
     "output_type": "stream",
     "text": [
      "overwrite output file: clprop1_g.log\n"
     ]
    }
   ],
   "source": [
    "#####################################\n",
    "#\n",
    "# Computing NMR shielding constants\n",
    "# non gpu variante\n",
    "#\n",
    "######################################\n",
    "\n",
    "\n",
    "# xyzin=\"propanol-g_opt1.xyz\"   # funktioniert\n",
    "xyzin =\"clprop1-g_opt1.xyz\"\n",
    "logfile=\"clprop1_g.log\"\n",
    "\n",
    "import pyscf\n",
    "from pyscf import gto, dft\n",
    "from pyscf.prop import nmr\n",
    "\n",
    "mol = pyscf.M(atom=xyzin, basis='6-31g*', output=logfile)\n",
    "\n",
    "\n",
    "mf = dft.RKS(mol)\n",
    "mf.xc = 'b3lyp'\n",
    "mf.run()\n",
    "\n",
    "#nmr.RKS(mf).kernel()\n",
    "\n",
    "abschirmung = nmr.RKS(mf).kernel()\n"
   ]
  },
  {
   "cell_type": "code",
   "execution_count": 2,
   "id": "c4e84769-8553-4b56-86be-f0ff4ccbf9c1",
   "metadata": {
    "collapsed": true,
    "jupyter": {
     "outputs_hidden": true,
     "source_hidden": true
    }
   },
   "outputs": [
    {
     "name": "stdout",
     "output_type": "stream",
     "text": [
      "[[[ 6.46322356e+01 -5.37551922e+01 -2.71051367e-12]\n",
      "  [-5.96774424e+01  3.28243987e+01 -4.98670541e-12]\n",
      "  [ 7.65673936e-12  8.64593585e-13  1.49449850e+02]]\n",
      "\n",
      " [[ 3.99008002e+01 -5.76909587e+01  2.81998778e-12]\n",
      "  [-5.14726794e+01 -3.58713730e+00 -2.15290373e-14]\n",
      "  [ 4.39004224e-12 -4.80910202e-12  1.12541097e+02]]\n",
      "\n",
      " [[ 1.83687000e+02  1.78022771e+01  1.45832730e-12]\n",
      "  [ 1.20950577e+01  1.63731160e+02  7.72953087e-13]\n",
      "  [ 3.16750864e-12 -2.47797696e-12  1.45066096e+02]]\n",
      "\n",
      " [[ 5.28463386e+02  1.23721588e+02  1.69735394e-12]\n",
      "  [ 1.04852283e+02  9.92726330e+02  3.17679217e-12]\n",
      "  [ 1.92095098e-11 -1.02208076e-11  5.76800803e+02]]\n",
      "\n",
      " [[ 2.94528833e+01 -2.03746230e+00 -3.57301033e-13]\n",
      "  [-5.52432723e+00  2.69784585e+01 -1.38162959e-13]\n",
      "  [ 2.16730845e-13 -1.46764350e-13  2.53639448e+01]]\n",
      "\n",
      " [[ 2.76509893e+01 -4.44860275e+00  7.44898129e-13]\n",
      "  [-2.30968027e+00  2.79357826e+01  7.67804043e-13]\n",
      "  [-2.27982561e-13 -4.29027018e-13  2.58664595e+01]]\n",
      "\n",
      " [[ 3.05834197e+01  3.79275355e+00  3.49537383e-14]\n",
      "  [ 1.07265385e+00  3.42263149e+01  1.63302251e-13]\n",
      "  [-5.59474383e-13 -4.72432881e-13  2.64734598e+01]]\n",
      "\n",
      " [[ 3.20086810e+01 -2.75774127e-01  3.90126786e+00]\n",
      "  [ 9.38541390e-01  2.84778490e+01 -9.79518914e-01]\n",
      "  [ 3.14952175e+00 -1.29588405e+00  3.03230576e+01]]\n",
      "\n",
      " [[ 3.20086810e+01 -2.75774127e-01 -3.90126786e+00]\n",
      "  [ 9.38541390e-01  2.84778490e+01  9.79518914e-01]\n",
      "  [-3.14952175e+00  1.29588405e+00  3.03230576e+01]]]\n",
      "64.63223558237095\n"
     ]
    }
   ],
   "source": [
    "#print(abschirmung)\n",
    "#print(abschirmung[0,0,0])"
   ]
  },
  {
   "cell_type": "code",
   "execution_count": 26,
   "id": "e1cf8277-a24a-48c3-bdf5-001ab181c9b1",
   "metadata": {},
   "outputs": [],
   "source": [
    "#################################################################################################\n",
    "#\n",
    "# Constanten für Verschiebungsberchnung\n",
    "#\n",
    "# CSHESHIRE Repository (Tantillo)\n",
    "#\n",
    "# Table 1a and 1b\n",
    "#\n",
    "# delta = (intercept -sigma)/ - slope\n",
    "#\n",
    "# Das Vorzeichen von slope wird gleich in die Definition der Konstanten eingepflegt\n",
    "#\n",
    "# TMS shielding aus eigener Berechnung delta = sigma - TMS\n",
    "#\n",
    "##################################################################################################\n",
    "\n",
    "intercept1a = 187.4743\n",
    "slope1a = 0.9269\n",
    "intercept1b = 188.4418\n",
    "slope1b = 0.9449\n",
    "tmsshield = 190.2218\n",
    "\n",
    "h_intercept1a = 32.2884\n",
    "h_slope1a = 0.9957\n",
    "h_intercept1b = 32.2109\n",
    "h_slope1b = 1.0157\n",
    "h_tmsshield = 32.1893\n",
    "\n",
    "shift = [0] *mol.natm\n",
    "shift1a = [0] *mol.natm\n",
    "shift1b= [0] *mol.natm\n",
    "shifttms= [0] *mol.natm\n",
    "\n",
    "\n",
    "data = []\n",
    "for i in range(mol.natm):\n",
    "    shift[i]= (abschirmung[i,0,0] + abschirmung[i,1,1] + abschirmung[i,2,2])/3\n",
    "    #print(f\"Atom {mol._atom[i][0]} {i} hat eine totale Abschirmung von {shift[i]} .\")\n",
    "\n",
    "    if  mol._atom[i][0] =='C':\n",
    "        shift1a[i] = (intercept1a-shift[i])/slope1a\n",
    "        shift1b[i] = (intercept1b-shift[i])/slope1b\n",
    "        shifttms[i] = tmsshield - shift[i]\n",
    "        data.append({'Atom': mol._atom[i][0], 'Index': i+1, 'Totale Abschirmung': shift[i], 'table1a': shift1a[i], 'table1b' : shift1b[i], 'TMS' : shifttms[i]})\n",
    "\n",
    "    if  mol._atom[i][0] =='H':\n",
    "        shift1a[i] = (h_intercept1a-shift[i])/h_slope1a\n",
    "        shift1b[i] = (h_intercept1b-shift[i])/h_slope1b\n",
    "        shifttms[i] = h_tmsshield - shift[i]\n",
    "        data.append({'Atom': mol._atom[i][0], 'Index': i+1, 'Totale Abschirmung': shift[i], 'table1a': shift1a[i], 'table1b' : shift1b[i], 'TMS' : shifttms[i]})\n",
    " "
   ]
  },
  {
   "cell_type": "code",
   "execution_count": 31,
   "id": "7ac45b8d-87d8-4a22-8a7f-2f48ef1b3c60",
   "metadata": {},
   "outputs": [
    {
     "data": {
      "text/html": [
       "<table border=\"1\" class=\"dataframe\">\n",
       "  <thead>\n",
       "    <tr style=\"text-align: right;\">\n",
       "      <th>Atom</th>\n",
       "      <th>Index</th>\n",
       "      <th>Totale Abschirmung</th>\n",
       "      <th>table1a</th>\n",
       "      <th>table1b</th>\n",
       "      <th>TMS</th>\n",
       "    </tr>\n",
       "  </thead>\n",
       "  <tbody>\n",
       "    <tr>\n",
       "      <td>C</td>\n",
       "      <td>1</td>\n",
       "      <td>82.302161</td>\n",
       "      <td>113.466543</td>\n",
       "      <td>112.328965</td>\n",
       "      <td>107.919639</td>\n",
       "    </tr>\n",
       "    <tr>\n",
       "      <td>C</td>\n",
       "      <td>2</td>\n",
       "      <td>49.618253</td>\n",
       "      <td>148.728068</td>\n",
       "      <td>146.918771</td>\n",
       "      <td>140.603547</td>\n",
       "    </tr>\n",
       "    <tr>\n",
       "      <td>C</td>\n",
       "      <td>3</td>\n",
       "      <td>164.161419</td>\n",
       "      <td>25.151452</td>\n",
       "      <td>25.696244</td>\n",
       "      <td>26.060381</td>\n",
       "    </tr>\n",
       "    <tr>\n",
       "      <td>H</td>\n",
       "      <td>5</td>\n",
       "      <td>27.265096</td>\n",
       "      <td>5.044998</td>\n",
       "      <td>4.869356</td>\n",
       "      <td>4.924204</td>\n",
       "    </tr>\n",
       "    <tr>\n",
       "      <td>H</td>\n",
       "      <td>6</td>\n",
       "      <td>27.151077</td>\n",
       "      <td>5.159509</td>\n",
       "      <td>4.981612</td>\n",
       "      <td>5.038223</td>\n",
       "    </tr>\n",
       "    <tr>\n",
       "      <td>H</td>\n",
       "      <td>7</td>\n",
       "      <td>30.427731</td>\n",
       "      <td>1.868704</td>\n",
       "      <td>1.755606</td>\n",
       "      <td>1.761569</td>\n",
       "    </tr>\n",
       "    <tr>\n",
       "      <td>H</td>\n",
       "      <td>8</td>\n",
       "      <td>30.269863</td>\n",
       "      <td>2.027255</td>\n",
       "      <td>1.911034</td>\n",
       "      <td>1.919437</td>\n",
       "    </tr>\n",
       "    <tr>\n",
       "      <td>H</td>\n",
       "      <td>9</td>\n",
       "      <td>30.269863</td>\n",
       "      <td>2.027255</td>\n",
       "      <td>1.911034</td>\n",
       "      <td>1.919437</td>\n",
       "    </tr>\n",
       "  </tbody>\n",
       "</table>"
      ],
      "text/plain": [
       "<IPython.core.display.HTML object>"
      ]
     },
     "metadata": {},
     "output_type": "display_data"
    }
   ],
   "source": [
    "import pandas as pd\n",
    "from IPython.display import display, HTML\n",
    "# Erstelle ein DataFrame\n",
    "df = pd.DataFrame(data)\n",
    "\n",
    "# Setze die Spaltenüberschriften\n",
    "df.columns = ['Atom', 'Index', 'Totale Abschirmung', 'table1a', 'table1b', 'TMS']\n",
    "\n",
    "# Zeige die Tabelle an\n",
    "display(HTML(df.to_html(index=False)))"
   ]
  },
  {
   "cell_type": "code",
   "execution_count": 28,
   "id": "3202ec2c-aba9-4bc3-a54f-637bae5e1c25",
   "metadata": {},
   "outputs": [
    {
     "data": {
      "image/png": "[encoded data removed]",
      "text/plain": [
       "<rdkit.Chem.rdchem.Mol at 0x149619f692b0>"
      ]
     },
     "execution_count": 28,
     "metadata": {},
     "output_type": "execute_result"
    }
   ],
   "source": [
    "from rdkit import Chem\n",
    "from rdkit.Chem import AllChem\n",
    "from rdkit.Chem import rdDetermineBonds\n",
    "from rdkit.Chem.Draw import IPythonConsole\n",
    "\n",
    "\n",
    "def show_atom_number(mol, label):\n",
    "    for atom in mol.GetAtoms():\n",
    "        atom.SetProp(label, str(atom.GetIdx()+1))\n",
    "    return mol\n",
    "\n",
    "raw_mol = Chem.MolFromXYZFile(xyzin)\n",
    "mol2 = Chem.Mol(raw_mol)\n",
    "Chem.rdDetermineBonds.DetermineBonds(mol2)\n",
    "# mol2\n",
    "AllChem.Compute2DCoords(mol2)\n",
    "show_atom_number(mol2, 'atomNote')"
   ]
  },
  {
   "cell_type": "code",
   "execution_count": null,
   "id": "88f349b5-a35a-423b-929a-d5b699ab3209",
   "metadata": {},
   "outputs": [],
   "source": []
  }
 ],
 "metadata": {
  "kernelspec": {
   "display_name": "Python 3 (ipykernel)",
   "language": "python",
   "name": "python3"
  },
  "language_info": {
   "codemirror_mode": {
    "name": "ipython",
    "version": 3
   },
   "file_extension": ".py",
   "mimetype": "text/x-python",
   "name": "python",
   "nbconvert_exporter": "python",
   "pygments_lexer": "ipython3",
   "version": "3.12.4"
  }
 },
 "nbformat": 4,
 "nbformat_minor": 5
}
